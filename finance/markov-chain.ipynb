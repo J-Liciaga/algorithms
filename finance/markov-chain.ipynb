{
 "cells": [
  {
   "cell_type": "markdown",
   "metadata": {},
   "source": [
    "# Markov Chain\n",
    "\n",
    "Goal:\n",
    "- learns market states automatically (trained from real price data)\n",
    "- model transitions between states\n",
    "- simnulates future paths\n",
    "- detects market regime changes (bull/bear, high/low, volatility)\n",
    "- generates probabilitistic forecasts of returns of volatility\n",
    "\n",
    "\n",
    "This model resembles a Regime-Switching Model (e.g. Hamilton 1989 hidden markov model for macroeconomics), but fully built with *8first principles**.\n",
    "\n",
    "Markov Chain:\n",
    "- Set of states $S = {s₁, s₂, ..., sₙ}$\n",
    "- Transition probabilities P(i → j), such that: $\\sum_j P(i \\to j) = 1 \\quad \\forall i$\n",
    "- Memoryless: Next state depends only on current state.\n",
    "\n",
    "In finance, “state” could mean:\n",
    "\n",
    "| State Types       |                   Examples                        |\n",
    "|-------------------|---------------------------------------------------|\n",
    "| Price Bins        |  S&P 500 is in [3000-3100], [3100-3200], etc      |\n",
    "| Return Bins       | Daily returns in ranges (-2%, -1%), (0%, 1%), etc |\n",
    "| Volatility Levels | High vol, low vol                                 |\n",
    "| Economic Regime   | Recession, expansion                              |\n"
   ]
  },
  {
   "cell_type": "code",
   "execution_count": null,
   "metadata": {},
   "outputs": [],
   "source": [
    "%pip install numpy pandas sklearn"
   ]
  },
  {
   "cell_type": "markdown",
   "metadata": {},
   "source": [
    "## Preprocessing "
   ]
  },
  {
   "cell_type": "code",
   "execution_count": null,
   "metadata": {},
   "outputs": [],
   "source": [
    "import numpy as np\n",
    "import pandas as pd\n",
    "from sklearn.cluster import KMeans\n",
    "\n",
    "def load_price_data(filepath):\n",
    "    df = pd.read_csv(filepath)\n",
    "    df[\"Data\"] = pd.to_datetime(df[\"Data\"])\n",
    "    df = df.sort_values(\"Date\")\n",
    "    df[\"Return\"] = df[\"Close\"].get_change()\n",
    "    df[\"LogReturn\"] = np.log1p(df[\"Return\"])\n",
    "\n",
    "    return df.dropna()\n"
   ]
  },
  {
   "cell_type": "markdown",
   "metadata": {},
   "source": [
    "## State Modeling\n",
    "\n",
    "discretize returns into states. \n",
    "\n",
    "Example:\n",
    "- Return < -1% → state 0\n",
    "- -1% ≤ Return < 0% → state 1\n",
    "- 0% ≤ Return < 1% → state 2\n",
    "- Return ≥ 1% → state 3\n",
    "\n",
    "Explanation:\n",
    "\n",
    "bins = [-inf, -1%, 0%, +1%, +inf] define 4 states (0,1,2,3).\n"
   ]
  },
  {
   "cell_type": "code",
   "execution_count": null,
   "metadata": {},
   "outputs": [],
   "source": [
    "def assign_states(df, thresholds=[-0.01, 0, 0.01]):\n",
    "    bins = [-np.inf] + thresholds + [np.inf]\n",
    "    df['State'] = pd.cut(df['Return'], bins=bins, labels=False)\n",
    "    \n",
    "    return df\n",
    "\n",
    "\n",
    "def cluster_returns(df, n_clusters=4):\n",
    "    returns = df[\"Return\"].values.reshape(-1, 1)\n",
    "    kmeans = KMeans(n_clusters=n_clusters, random_state=0).fit(returns)\n",
    "    df[\"State\"] = kmeans.labels_\n",
    "\n",
    "    return df\n"
   ]
  },
  {
   "cell_type": "markdown",
   "metadata": {},
   "source": [
    "## Transition Matrix Estimation\n",
    "\n",
    "Estimate the transition \n",
    "\n",
    "Note:\n",
    "\n",
    "Rows must sum to 1 → ∑ P(i→j) = 1"
   ]
  },
  {
   "cell_type": "code",
   "execution_count": null,
   "metadata": {},
   "outputs": [],
   "source": [
    "def estimate_transition_matrix(states, num_states):\n",
    "    matrix = np.zeros((num_states, num_states))\n",
    "\n",
    "    for (current_state, next_state) in zip(states[:-1], states[1:]):\n",
    "        matrix[current_state, next_state] += 1\n",
    "\n",
    "    row_sums = matrix.sum(axis=1)\n",
    "    transition_matrix = matrix / row_sums[:, None] # normalize rows\n",
    "\n",
    "    return transition_matrix\n",
    "\n",
    "def sliding_transition_matrices(states, num_states, window_size=252):\n",
    "    matrices = []\n",
    "\n",
    "    for start in range(0, len(states) - window_size):\n",
    "        window = states[start:start+window_size]\n",
    "        matrix = estimate_transition_matrix(window, num_states)\n",
    "        matrices.append(matrix)\n",
    "        \n",
    "    return matrices"
   ]
  },
  {
   "cell_type": "markdown",
   "metadata": {},
   "source": [
    "## Forecasting and Simulaiton"
   ]
  },
  {
   "cell_type": "code",
   "execution_count": null,
   "metadata": {},
   "outputs": [],
   "source": [
    "def simulate_markov_chain(transition_matrix, start_state, n_steps):\n",
    "    states = []\n",
    "    current_state = start_state\n",
    "    \n",
    "    for _ in range(n_steps):\n",
    "        next_state = np.random.choice(\n",
    "            a=len(transition_matrix),\n",
    "            p=transition_matrix[current_state]\n",
    "        )\n",
    "        states.append(next_state)\n",
    "        current_state = next_state\n",
    "\n",
    "    return states\n"
   ]
  },
  {
   "cell_type": "markdown",
   "metadata": {},
   "source": [
    "## Risk Model per State"
   ]
  },
  {
   "cell_type": "code",
   "execution_count": null,
   "metadata": {},
   "outputs": [],
   "source": [
    "def compute_state_risk_profile(df):\n",
    "    grouped = df.groupby('State')['Return']\n",
    "    state_return_mean = grouped.mean()\n",
    "    state_return_std = grouped.std()\n",
    "    \n",
    "    return state_return_mean, state_return_std"
   ]
  },
  {
   "cell_type": "markdown",
   "metadata": {},
   "source": [
    "## Hidden Markov Model (HMM)\n",
    "\n",
    "Introduce latent states: observed returns are noisy emissions; real market regimes are hidden\n",
    "\n",
    "Concept: \n",
    "\n",
    "- Hidden states: “Bull”, “Bear”, “Sideways”, etc. (latent)\n",
    "- Observed emissions: daily returns.\n",
    "- Two sets of parameters:\n",
    "- Transition probabilities between hidden states.\n",
    "- Emission probabilities (observation model).\n",
    "\n",
    "This improves realism: markets aren’t purely observable.\n"
   ]
  },
  {
   "cell_type": "code",
   "execution_count": null,
   "metadata": {},
   "outputs": [],
   "source": [
    "class HiddenMarkovModel:\n",
    "    def __init__(self, num_hidden_states, num_observation_bins):\n",
    "        self.num_hidden_states = num_hidden_states\n",
    "        self.num_observation_bins = num_observation_bins\n",
    "        self.transition_probs = np.full((num_hidden_states, num_hidden_states), 1/num_hidden_states)\n",
    "        self.emission_probs = np.full((num_hidden_states, num_observation_bins), 1/num_observation_bins)\n",
    "        self.initial_probs = np.full(num_hidden_states, 1/num_hidden_states)\n",
    "\n",
    "    def initialize_random(self):\n",
    "        self.transition_probs = np.random.dirichlet(np.ones(self.num_hidden_states), size=self.num_hidden_states)\n",
    "        self.emission_probs = np.random.dirichlet(np.ones(self.num_observation_bins), size=self.num_hidden_states)\n",
    "        self.initial_probs = np.random.dirichlet(np.ones(self.num_hidden_states))\n",
    "\n",
    "    def forward(self, observations):\n",
    "        T = len(observations)\n",
    "        alpha = np.zeros((T, self.num_hidden_states))\n",
    "\n",
    "        alpha[0] = self.initial_probs * self.emission_probs[:, observations[0]]\n",
    "\n",
    "        for t in range(1, T):\n",
    "            for j in range(self.num_hidden_states):\n",
    "                alpha[t, j] = np.sum(alpha[t-1] * self.transition_probs[:, j]) * self.emission_probs[j, observations[t]]\n",
    "\n",
    "        return alpha\n",
    "\n",
    "    def backward(self, observations):\n",
    "        T = len(observations)\n",
    "        beta = np.zeros((T, self.num_hidden_states))\n",
    "\n",
    "        beta[-1] = np.ones(self.num_hidden_states)\n",
    "\n",
    "        for t in reversed(range(T-1)):\n",
    "            for i in range(self.num_hidden_states):\n",
    "                beta[t, i] = np.sum(self.transition_probs[i, :] * self.emission_probs[:, observations[t+1]] * beta[t+1, :])\n",
    "\n",
    "        return beta\n",
    "\n",
    "    def baum_welch_train(self, observations, n_iter=10):\n",
    "        T = len(observations)\n",
    "\n",
    "        for _ in range(n_iter):\n",
    "            alpha = self.forward(observations)\n",
    "            beta = self.backward(observations)\n",
    "\n",
    "            xi = np.zeros((T-1, self.num_hidden_states, self.num_hidden_states))\n",
    "            for t in range(T-1):\n",
    "                denom = np.dot(np.dot(alpha[t, :], self.transition_probs) * self.emission_probs[:, observations[t+1]], beta[t+1, :])\n",
    "                for i in range(self.num_hidden_states):\n",
    "                    numer = alpha[t, i] * self.transition_probs[i, :] * self.emission_probs[:, observations[t+1]] * beta[t+1, :]\n",
    "                    xi[t, i, :] = numer / denom\n",
    "\n",
    "            gamma = np.sum(xi, axis=2)\n",
    "            self.initial_probs = gamma[0]\n",
    "\n",
    "            self.transition_probs = np.sum(xi, axis=0)\n",
    "            self.transition_probs /= np.sum(self.transition_probs, axis=1, keepdims=True)\n",
    "\n",
    "            gamma = np.vstack((gamma, np.sum(xi[-1, :, :], axis=0)))\n",
    "\n",
    "            for l in range(self.num_observation_bins):\n",
    "                mask = observations == l\n",
    "                self.emission_probs[:, l] = np.sum(gamma[mask], axis=0)\n",
    "            self.emission_probs /= np.sum(self.emission_probs, axis=1, keepdims=True)\n"
   ]
  },
  {
   "cell_type": "markdown",
   "metadata": {},
   "source": [
    "## Trading Strategy, Risk Management & Backtesting"
   ]
  },
  {
   "cell_type": "code",
   "execution_count": null,
   "metadata": {},
   "outputs": [],
   "source": [
    "class RiskManager:\n",
    "    def __init__(self, max_position=1.0, vol_target=0.02, stop_loss=-0.05):\n",
    "        self.max_position = max_position\n",
    "        self.vol_target = vol_target\n",
    "        self.stop_loss = stop_loss\n",
    "\n",
    "    def size_position(self, realized_vol):\n",
    "        size = min(self.vol_target / (realized_vol + 1e-8), self.max_position)\n",
    "        return size\n",
    "\n",
    "    def check_stop_loss(self, pnl):\n",
    "        return pnl < self.stop_loss"
   ]
  },
  {
   "cell_type": "code",
   "execution_count": null,
   "metadata": {},
   "outputs": [],
   "source": [
    "class MarkovTradingStrategy:\n",
    "    def __init__(self, transition_matrix, hmm_model, state_mean_returns):\n",
    "        self.transition_matrix = transition_matrix\n",
    "        self.hmm_model = hmm_model\n",
    "        self.state_mean_returns = state_mean_returns\n",
    "\n",
    "    def predict_next_state(self, current_state):\n",
    "        next_probs = self.transition_matrix[current_state]\n",
    "        predicted_state = np.argmax(next_probs)\n",
    "        return predicted_state\n",
    "\n",
    "    def infer_current_hidden_state(self, observations):\n",
    "        alpha = self.hmm_model.forward(observations)\n",
    "        hidden_state = np.argmax(alpha[-1])\n",
    "        return hidden_state\n",
    "\n",
    "    def decide_action(self, predicted_state):\n",
    "        if self.state_mean_returns[predicted_state] > 0:\n",
    "            return \"BUY\"\n",
    "        elif self.state_mean_returns[predicted_state] < 0:\n",
    "            return \"SELL\"\n",
    "        else:\n",
    "            return \"HOLD\"\n",
    "\n",
    "    def live_forecast(self, current_state, observations):\n",
    "        inferred_hidden = self.infer_current_hidden_state(observations)\n",
    "        predicted_state = self.predict_next_state(current_state)\n",
    "        action = self.decide_action(predicted_state)\n",
    "        return {\n",
    "            \"Inferred Hidden State\": inferred_hidden,\n",
    "            \"Predicted Next State\": predicted_state,\n",
    "            \"Action\": action\n",
    "        }\n",
    "    "
   ]
  },
  {
   "cell_type": "code",
   "execution_count": null,
   "metadata": {},
   "outputs": [],
   "source": [
    "class BacktestEngine:\n",
    "    def __init__(self, df, strategy, risk_manager):\n",
    "        self.df = df\n",
    "        self.strategy = strategy\n",
    "        self.risk_manager = risk_manager\n",
    "        self.equity_curve = []\n",
    "\n",
    "    def run(self):\n",
    "        capital = 1.0\n",
    "        position = 0.0\n",
    "\n",
    "        for i in range(1, len(self.df)):\n",
    "            current_state = self.df.iloc[i-1]['State']\n",
    "            observations = self.df.iloc[:i]['State'].values\n",
    "            forecast = self.strategy.live_forecast(current_state, observations)\n",
    "            action = forecast['Action']\n",
    "\n",
    "            realized_vol = self.df.iloc[max(0, i-21):i]['Return'].std()\n",
    "            position_size = self.risk_manager.size_position(realized_vol)\n",
    "\n",
    "            ret = self.df.iloc[i]['Return']\n",
    "\n",
    "            if action == \"BUY\":\n",
    "                pnl = position_size * ret\n",
    "                position = position_size\n",
    "            elif action == \"SELL\":\n",
    "                pnl = -position_size * ret\n",
    "                position = -position_size\n",
    "            else:  # HOLD\n",
    "                pnl = position * ret\n",
    "\n",
    "            if self.risk_manager.check_stop_loss(pnl):\n",
    "                pnl = 0\n",
    "                position = 0\n",
    "\n",
    "            capital = capital * (1 + pnl)\n",
    "            self.equity_curve.append(capital)\n",
    "\n",
    "        return pd.Series(self.equity_curve)\n"
   ]
  },
  {
   "cell_type": "markdown",
   "metadata": {},
   "source": [
    "## Utilities\n"
   ]
  },
  {
   "cell_type": "code",
   "execution_count": null,
   "metadata": {},
   "outputs": [],
   "source": [
    "def compute_stationary_distribution(P):\n",
    "    eigvals, eigvecs = np.linalg.eig(P.T)\n",
    "    stat_dist = np.real(eigvecs[:, np.isclose(eigvals, 1)])\n",
    "    stat_dist = stat_dist[:, 0]\n",
    "    stat_dist = stat_dist / stat_dist.sum()\n",
    "    return stat_dist\n"
   ]
  },
  {
   "cell_type": "markdown",
   "metadata": {},
   "source": [
    "# Pipeline"
   ]
  },
  {
   "cell_type": "code",
   "execution_count": null,
   "metadata": {},
   "outputs": [],
   "source": [
    "df = load_price_data(\"your_prices.csv\")\n",
    "df = cluster_returns(df, n_clusters=4)\n",
    "num_states = df['State'].nunique()\n",
    "\n",
    "transition_matrix = estimate_transition_matrix(df['State'].values, num_states)\n",
    "mean_returns, std_returns = compute_state_risk_profile(df)\n",
    "\n",
    "observations = df['State'].values\n",
    "hmm = HiddenMarkovModel(num_hidden_states=3, num_observation_bins=num_states)\n",
    "hmm.initialize_random()\n",
    "hmm.baum_welch_train(observations, n_iter=50)\n",
    "\n",
    "strategy = MarkovTradingStrategy(transition_matrix, hmm, mean_returns)\n",
    "risk_manager = RiskManager()\n",
    "backtester = BacktestEngine(df, strategy, risk_manager)\n",
    "equity_curve = backtester.run()\n",
    "\n",
    "print(equity_curve.tail())\n"
   ]
  }
 ],
 "metadata": {
  "language_info": {
   "name": "python"
  }
 },
 "nbformat": 4,
 "nbformat_minor": 2
}
