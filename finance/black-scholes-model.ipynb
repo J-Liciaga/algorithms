{
 "cells": [
  {
   "cell_type": "markdown",
   "metadata": {},
   "source": [
    "# Black Scholes Model for Derivative Pricing\n",
    "\n",
    "Source: Black & Scholes, 1973; Merton, 1973\n",
    "\n",
    "- Uses the closed-form formula for European options.\n",
    "- Uses the cumulative normal distrinution function from scipy.stats to compute d1 and d2, and applies the Black-Scholes formula. "
   ]
  },
  {
   "cell_type": "code",
   "execution_count": 1,
   "metadata": {},
   "outputs": [
    {
     "name": "stdout",
     "output_type": "stream",
     "text": [
      "Looking in indexes: https://pypi.org/simple, https://pypi.ngc.nvidia.com\n",
      "Requirement already satisfied: numpy in /Users/sensei/dev/algorithms/finance-venv/lib/python3.11/site-packages (2.2.3)\n",
      "Requirement already satisfied: scipy in /Users/sensei/dev/algorithms/finance-venv/lib/python3.11/site-packages (1.15.2)\n",
      "\n",
      "\u001b[1m[\u001b[0m\u001b[34;49mnotice\u001b[0m\u001b[1;39;49m]\u001b[0m\u001b[39;49m A new release of pip is available: \u001b[0m\u001b[31;49m24.0\u001b[0m\u001b[39;49m -> \u001b[0m\u001b[32;49m25.0.1\u001b[0m\n",
      "\u001b[1m[\u001b[0m\u001b[34;49mnotice\u001b[0m\u001b[1;39;49m]\u001b[0m\u001b[39;49m To update, run: \u001b[0m\u001b[32;49mpip install --upgrade pip\u001b[0m\n",
      "Note: you may need to restart the kernel to use updated packages.\n"
     ]
    }
   ],
   "source": [
    "%pip install numpy scipy"
   ]
  },
  {
   "cell_type": "code",
   "execution_count": 2,
   "metadata": {},
   "outputs": [],
   "source": [
    "import numpy as np\n",
    "import scipy.stats as si\n"
   ]
  },
  {
   "cell_type": "code",
   "execution_count": 3,
   "metadata": {},
   "outputs": [],
   "source": [
    "def black_scholes(S, X, T, r, sigma, option_type=\"call\"):\n",
    "    \"\"\"Black Scholes formula for European call and put options\"\"\"\n",
    "    d1 = (np.log(S / K) + (r + 0.5 * sigma ** 2) * T) / (sigma * np.sqrt(T))\n",
    "    d2 = d1 - sigma * np.sqrt(T)\n",
    "    \n",
    "    if option_type == \"call\":\n",
    "        option_price = S * si.norm.cdf(d1, 0.0, 1.0) - K * np.exp(-r * T) * si.norm.cdf(d2, 0.0, 1.0)\n",
    "    else:  # put option\n",
    "        option_price = K * np.exp(-r * T) * si.norm.cdf(-d2, 0.0, 1.0) - S * si.norm.cdf(-d1, 0.0, 1.0)\n",
    "    \n",
    "    return option_price\n",
    "\n"
   ]
  },
  {
   "cell_type": "code",
   "execution_count": 4,
   "metadata": {},
   "outputs": [
    {
     "name": "stdout",
     "output_type": "stream",
     "text": [
      "Black-Scholes Call Option Price: 10.45\n",
      "Black-Scholes Put Option Price: 10.45\n"
     ]
    }
   ],
   "source": [
    "# Example Usage\n",
    "S = 100     # Initial stock price\n",
    "K = 100     # Strike price\n",
    "T = 1       # Time to maturity (in years)\n",
    "r = 0.05    # Risk-free interest rate\n",
    "sigma = 0.2 # Volatility\n",
    "\n",
    "call_price = black_scholes(S, K, T, r, sigma, \"call\")\n",
    "put_price = black_scholes(S, K, T, r, sigma, \"put\")\n",
    "\n",
    "print(f\"Black-Scholes Call Option Price: {call_price:.2f}\")\n",
    "print(f\"Black-Scholes Put Option Price: {call_price:.2f}\")\n"
   ]
  }
 ],
 "metadata": {
  "kernelspec": {
   "display_name": "finance-venv",
   "language": "python",
   "name": "python3"
  },
  "language_info": {
   "codemirror_mode": {
    "name": "ipython",
    "version": 3
   },
   "file_extension": ".py",
   "mimetype": "text/x-python",
   "name": "python",
   "nbconvert_exporter": "python",
   "pygments_lexer": "ipython3",
   "version": "3.11.11"
  }
 },
 "nbformat": 4,
 "nbformat_minor": 2
}
