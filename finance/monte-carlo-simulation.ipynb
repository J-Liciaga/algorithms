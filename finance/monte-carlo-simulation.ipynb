{
 "cells": [
  {
   "cell_type": "markdown",
   "metadata": {
    "vscode": {
     "languageId": "plaintext"
    }
   },
   "source": [
    "# Monte Carlo Simulation\n",
    "\n",
    "Source: Boyle, 1977\n",
    "\n",
    "- Simulates future stock price paths and discounts expected payoffs.\n",
    "- Simulates multiple stock price paths using geometric Brownian motion, computes payoffs, and discounts them."
   ]
  },
  {
   "cell_type": "code",
   "execution_count": null,
   "metadata": {},
   "outputs": [],
   "source": [
    "%pip install numpy matplotlib"
   ]
  },
  {
   "cell_type": "code",
   "execution_count": null,
   "metadata": {},
   "outputs": [],
   "source": [
    "import numpy as np\n",
    "import matplotlib.pyplot as plt"
   ]
  },
  {
   "cell_type": "code",
   "execution_count": null,
   "metadata": {},
   "outputs": [],
   "source": [
    "def monte_carlo_option(S, K, T, r, sigma, num_simulations=10000, option_type=\"call\"):\n",
    "    \"\"\"Monte Carlo simulation for European options.\"\"\"\n",
    "    np.random.seed(42)\n",
    "    Z = np.random.standard_normal(num_simulations)\n",
    "    S_T = S * np.exp((r - 0.5 * sigma ** 2) * T + sigma * np.sqrt(T) * Z)\n",
    "    \n",
    "    if option_type == \"call\":\n",
    "        option_payoff = np.maximum(S_T - K, 0)\n",
    "    else:\n",
    "        option_payoff = np.maximum(K - S_T, 0)\n",
    "    \n",
    "    return np.exp(-r * T) * np.mean(option_payoff)\n"
   ]
  },
  {
   "cell_type": "code",
   "execution_count": null,
   "metadata": {},
   "outputs": [],
   "source": [
    "# Example Usage\n",
    "S = 100                     # Initial stock price\n",
    "K = 100                     # Strike price\n",
    "T = 1                       # Time to maturity (in years)\n",
    "r = 0.05                    # Risk-free interest rate\n",
    "sigma = 0.2                 # Volatility\n",
    "num_simulations = 10000     # Simulations for Monte Carlo\n",
    "\n",
    "call_mc = monte_carlo_option(S, K, T, r, sigma, num_simulations, \"call\")\n",
    "put_mc = monte_carlo_option(S, K, T, r, sigma, num_simulations, \"put\")\n",
    "\n",
    "\n",
    "print(f\"Monte Carlo Call Option Price: {call_mc:.2f}\")\n",
    "print(f\"Monte Carlo Put Option Price: {put_mc:.2f}\")\n"
   ]
  },
  {
   "cell_type": "code",
   "execution_count": null,
   "metadata": {},
   "outputs": [],
   "source": [
    "# Visualization of Monte Carlo Simulations\n",
    "simulated_prices = S * np.exp((r - 0.5 * sigma ** 2) * T + sigma * np.sqrt(T) * np.random.standard_normal(num_simulations))\n",
    "plt.hist(simulated_prices, bins=50, alpha=0.75, color='blue', edgecolor='black')\n",
    "plt.xlabel('Simulated Stock Price at Expiry')\n",
    "plt.ylabel('Frequency')\n",
    "plt.title('Monte Carlo Simulated Stock Prices')\n",
    "plt.show()\n"
   ]
  }
 ],
 "metadata": {
  "language_info": {
   "name": "python"
  }
 },
 "nbformat": 4,
 "nbformat_minor": 2
}
