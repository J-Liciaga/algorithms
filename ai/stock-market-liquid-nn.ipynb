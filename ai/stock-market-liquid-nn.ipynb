{
 "cells": [
  {
   "cell_type": "markdown",
   "metadata": {},
   "source": [
    "# Liquid Neural Network\n",
    "\n",
    "Trained for stock market predictions"
   ]
  },
  {
   "cell_type": "code",
   "execution_count": null,
   "metadata": {},
   "outputs": [],
   "source": [
    "%pip install torch numpy pandas matplotlib"
   ]
  },
  {
   "cell_type": "code",
   "execution_count": null,
   "metadata": {},
   "outputs": [],
   "source": [
    "import torch\n",
    "import torch.nn as nn\n",
    "import torch.optim as optim\n",
    "import numpy as np\n",
    "import pandas as pd\n",
    "import matplotlib.pyplot as plt\n"
   ]
  },
  {
   "cell_type": "code",
   "execution_count": null,
   "metadata": {},
   "outputs": [],
   "source": [
    "# device config\n",
    "device = torch.device(\"cuda\" if torch.cuda.is_available() else \"cpu\")\n"
   ]
  },
  {
   "cell_type": "code",
   "execution_count": null,
   "metadata": {},
   "outputs": [],
   "source": [
    "# data prep\n",
    "def load_stock_data(csv_path, sequence_length=60):\n",
    "    df = pd.read_csv(csv_path)\n",
    "    data = df[\"Close\"].values\n",
    "    data = (data - np.mean(data)) / np.std(data)\n",
    "\n",
    "    X, y = [], []\n",
    "    for i in range(len(data) - sequence_length):\n",
    "        X.append(data[i:i + sequence_length])\n",
    "        y.append(data[i + sequence_length])\n",
    "\n",
    "    X = np.array(X)\n",
    "    y = np.array(y)\n",
    "    \n",
    "    return torch.tensor(X, dtype=torch.float32), torch.tensor(y, dtype=torch.float32)\n"
   ]
  },
  {
   "cell_type": "code",
   "execution_count": null,
   "metadata": {},
   "outputs": [],
   "source": [
    "# Liquid Neural Network\n",
    "class LiquidNeuron(nn.Module):\n",
    "    def __init__(self, input_size, hidden_size):\n",
    "        super(LiquidNeuron, self).__init__()\n",
    "        self.hidden_size = hidden_size\n",
    "        self.W = nn.Parameter(torch.randn(hidden_size, input_size) * 0.1)\n",
    "        self.U = nn.Parameter(torch.randn(hidden_size, hidden_size) * 0.1)\n",
    "        self.bias = nn.Parameter(torch.zeros(hidden_size))\n",
    "\n",
    "    def forward(self, x, h_prev):\n",
    "        # Liquid Time-Constant (LTC) dynamics\n",
    "        dxdt = torch.tanh(torch.matmul(x, self.W.t()) + torch.matmul(h_prev, self.U.t()) + self.bias)\n",
    "        h = h_prev + dxdt  # Euler integration\n",
    "        return h\n",
    "\n",
    "class LiquidNeuralNetwork(nn.Module):\n",
    "    def __init__(self, input_size, hidden_size, output_size, num_layers):\n",
    "        super(LiquidNeuralNetwork, self).__init__()\n",
    "        self.hidden_size = hidden_size\n",
    "        self.num_layers = num_layers\n",
    "        self.liquid_cells = nn.ModuleList([LiquidNeuron(input_size if i == 0 else hidden_size, hidden_size) for i in range(num_layers)])\n",
    "        self.fc = nn.Linear(hidden_size, output_size)\n",
    "\n",
    "    def forward(self, x):\n",
    "        h = torch.zeros(x.size(0), self.hidden_size).to(device)\n",
    "        for t in range(x.size(1)):\n",
    "            inp = x[:, t]\n",
    "            for cell in self.liquid_cells:\n",
    "                h = cell(inp, h)\n",
    "        out = self.fc(h)\n",
    "        return out"
   ]
  },
  {
   "cell_type": "code",
   "execution_count": null,
   "metadata": {},
   "outputs": [],
   "source": [
    "# Training\n",
    "def train_model(model, X_train, y_train, epochs=100, lr=0.001):\n",
    "    model.to(device)\n",
    "    criterion = nn.MSELoss()\n",
    "    optimizer = optim.Adam(model.parameters(), lr=lr)\n",
    "\n",
    "    for epoch in range(epochs):\n",
    "        model.train()\n",
    "        inputs, targets = X_train.to(device), y_train.to(device)\n",
    "\n",
    "        outputs = model(inputs)\n",
    "        loss = criterion(outputs.squeeze(), targets)\n",
    "\n",
    "        optimizer.zero_grad()\n",
    "        loss.backward()\n",
    "        optimizer.step()\n",
    "\n",
    "        if (epoch + 1) % 10 == 0:\n",
    "            print(f'Epoch [{epoch+1}/{epochs}], Loss: {loss.item():.4f}')"
   ]
  },
  {
   "cell_type": "code",
   "execution_count": null,
   "metadata": {},
   "outputs": [],
   "source": [
    "# Prediction Function\n",
    "def predict(model, X_test):\n",
    "    model.eval()\n",
    "    with torch.no_grad():\n",
    "        predictions = model(X_test.to(device))\n",
    "    return predictions.cpu().numpy()\n"
   ]
  },
  {
   "cell_type": "code",
   "execution_count": null,
   "metadata": {},
   "outputs": [],
   "source": [
    "# Load your CSV file here\n",
    "X, y = load_stock_data('stock_data.csv')\n",
    "split_ratio = 0.8\n",
    "split = int(len(X) * split_ratio)\n",
    "X_train, X_test = X[:split], X[split:]\n",
    "y_train, y_test = y[:split], y[split:]\n",
    "\n",
    "model = LiquidNeuralNetwork(input_size=1, hidden_size=64, output_size=1, num_layers=2)\n",
    "train_model(model, X_train.unsqueeze(-1), y_train, epochs=100, lr=0.001)\n",
    "\n",
    "predictions = predict(model, X_test.unsqueeze(-1))\n",
    "\n",
    "# Plotting Results\n",
    "plt.figure(figsize=(10, 5))\n",
    "plt.plot(y_test.numpy(), label='Actual')\n",
    "plt.plot(predictions, label='Predicted')\n",
    "plt.legend()\n",
    "plt.title('Stock Price Prediction with Liquid Neural Network')\n",
    "plt.xlabel('Time')\n",
    "plt.ylabel('Normalized Price')\n",
    "plt.show()\n"
   ]
  }
 ],
 "metadata": {
  "language_info": {
   "name": "python"
  }
 },
 "nbformat": 4,
 "nbformat_minor": 2
}
