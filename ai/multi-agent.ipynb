{
 "cells": [
  {
   "cell_type": "markdown",
   "metadata": {},
   "source": [
    "# Multi-Agent \n"
   ]
  },
  {
   "cell_type": "code",
   "execution_count": null,
   "metadata": {},
   "outputs": [],
   "source": [
    "%pip install crewai crewai-tools longchain-ibm"
   ]
  },
  {
   "cell_type": "code",
   "execution_count": null,
   "metadata": {},
   "outputs": [],
   "source": [
    "import os\n",
    "from crewai import Crew, Task, Agent\n",
    "from crewai_tools import SerperDevTool\n",
    "from langchain_ibm import WatsonxLLM\n"
   ]
  },
  {
   "cell_type": "markdown",
   "metadata": {},
   "source": [
    "## Set the API key and URL for the WatsonXLLM\n"
   ]
  },
  {
   "cell_type": "code",
   "execution_count": null,
   "metadata": {},
   "outputs": [],
   "source": [
    "os.environ[\"WATSONX_API_KEY\"] = \"YOUR_API_KEY\"\n",
    "os.environ[\"WATSONX_API_KEY\"] = \"YOUR_API_KEY\"\n",
    "os.environ[\"WATSONX_API_KEY\"] = \"YOUR_API_KEY\"\n"
   ]
  },
  {
   "cell_type": "markdown",
   "metadata": {},
   "source": [
    "## LLMs"
   ]
  },
  {
   "cell_type": "code",
   "execution_count": null,
   "metadata": {},
   "outputs": [],
   "source": [
    "parameters = {\n",
    "    \"deconding_method\": \"greedy\",\n",
    "    \"max_new_tokens\": 500, # max number of tokens to generate\n",
    "    \"min_new_tokens\": 1, # min number of tokens to generate\n",
    "    \"stop_sequences\": [\"\\n\"], # stop generation at a newline\n",
    "    \"temperature\": 0.0, # temperature for generation\n",
    "    \"top_k\": 1, # top k candidates\n",
    "    \"top_p\": 0.95, # top p for nucleus sampling\n",
    "}\n",
    "\n",
    "llm = WatsonxLLM(\n",
    "    model=\"meta-llama/llama-3-8b-instruct\", \n",
    "    api_key=os.environ[\"WATSONX_API_KEY\"],\n",
    "    url=os.environ[\"WATSONX_URL\"],\n",
    "    params=parameters,\n",
    "    project_id=os.environ[\"WATSONX_PROJECT\"]\n",
    ")\n",
    "\n",
    "function_calling_llm = WatsonxLLM(\n",
    "    model=\"ibm-mistralai/merlinite-7b\", \n",
    "    api_key=os.environ[\"WATSONX_API_KEY\"],\n",
    "    url=os.environ[\"WATSONX_URL\"],\n",
    "    params=parameters,\n",
    "    project_id=os.environ[\"WATSONX_PROJECT\"]\n",
    ")\n"
   ]
  },
  {
   "cell_type": "markdown",
   "metadata": {},
   "source": [
    "## Agent Tools\n"
   ]
  },
  {
   "cell_type": "code",
   "execution_count": null,
   "metadata": {},
   "outputs": [],
   "source": [
    "search = SerperDevTool()"
   ]
  },
  {
   "cell_type": "markdown",
   "metadata": {},
   "source": [
    "## Agents"
   ]
  },
  {
   "cell_type": "code",
   "execution_count": null,
   "metadata": {},
   "outputs": [],
   "source": [
    "researcher = Agent(\n",
    "    llm=llm,\n",
    "    function_calling_llm=function_calling_llm,\n",
    "    role=\"Senior AI Researcher\",\n",
    "    goal=\"Find promising research in the field of quantum computing.\",\n",
    "    backstory=\"You are a veteran quantum computing researcher with a background in modern physics.\",\n",
    "    allow_delegation=True,\n",
    "    tools=[search],\n",
    "    verbose=1,\n",
    ")\n",
    "\n",
    "writer = Agent(\n",
    "    llm=llm,\n",
    "    function_calling_llm=function_calling_llm,\n",
    "    role=\"Senior Speech Writer\",\n",
    "    goal=\"Write engaging and witty keynote speeches from provided research.\",\n",
    "    backstory=\"You are a veteran quantum computing writer with a background in modern physics.\",\n",
    "    allow_delegation=True,\n",
    "    tools=[search],\n",
    "    verbose=1,\n",
    ")\n"
   ]
  },
  {
   "cell_type": "markdown",
   "metadata": {},
   "source": [
    "## Tasks"
   ]
  },
  {
   "cell_type": "code",
   "execution_count": null,
   "metadata": {},
   "outputs": [],
   "source": [
    "task_1 = Task(\n",
    "    description=\"Search the internet and find 5 examples of promising AI research.\",\n",
    "    expected_output=\"A detailed bullet point summary on each of the topics. Each bullet point should cover the topic, background and why the innovation is useful.\",\n",
    "    output_file=\"task1output.txt\",\n",
    "    agent=researcher,\n",
    ")\n",
    "\n",
    "task_2 = Task(\n",
    "    description=\"Write an engaging keynote speech on quantum computing.\",\n",
    "    expected_output=\"A detailed keynote speech with an intro, body and conclusion.\",\n",
    "    output_file=\"task2output.txt\",\n",
    "    agent=writer,\n",
    ")\n"
   ]
  },
  {
   "cell_type": "markdown",
   "metadata": {},
   "source": [
    "## Create and run the Crew"
   ]
  },
  {
   "cell_type": "code",
   "execution_count": null,
   "metadata": {},
   "outputs": [],
   "source": [
    "crew = Crew(\n",
    "    agents=[researcher, writer],\n",
    "    tasks=[task_1, task_2],\n",
    "    verbose=1,\n",
    ")\n",
    "\n",
    "print(crew.kickoff())\n"
   ]
  }
 ],
 "metadata": {
  "language_info": {
   "name": "python"
  }
 },
 "nbformat": 4,
 "nbformat_minor": 2
}
